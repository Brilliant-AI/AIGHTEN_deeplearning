{
  "nbformat": 4,
  "nbformat_minor": 0,
  "metadata": {
    "colab": {
      "name": "Iris_MLP.ipynb",
      "provenance": [],
      "collapsed_sections": []
    },
    "kernelspec": {
      "name": "python3",
      "display_name": "Python 3"
    }
  },
  "cells": [
    {
      "cell_type": "markdown",
      "metadata": {
        "id": "eL0zMo6zAzxP"
      },
      "source": [
        "##초기 셋팅"
      ]
    },
    {
      "cell_type": "code",
      "metadata": {
        "id": "FOB1YTf0-jW3"
      },
      "source": [
        "import tensorflow as tf\n",
        "from tensorflow import keras\n",
        "import numpy as np\n",
        "import matplotlib.pyplot as plt"
      ],
      "execution_count": null,
      "outputs": []
    },
    {
      "cell_type": "code",
      "metadata": {
        "id": "itKpmkTw-sHb"
      },
      "source": [
        "# Iris 데이터 받아오기\n",
        "from sklearn import datasets\n",
        "iris = datasets.load_iris()"
      ],
      "execution_count": null,
      "outputs": []
    },
    {
      "cell_type": "markdown",
      "metadata": {
        "id": "t2x60Tw7A555"
      },
      "source": [
        "##데이터 print 해보기"
      ]
    },
    {
      "cell_type": "code",
      "metadata": {
        "id": "wFRQg4lbAUlU"
      },
      "source": [
        "# iris data 출력해보기\n"
      ],
      "execution_count": null,
      "outputs": []
    },
    {
      "cell_type": "code",
      "metadata": {
        "id": "pI8uD15KArFC"
      },
      "source": [
        "# iris label 출력해보기\n"
      ],
      "execution_count": null,
      "outputs": []
    },
    {
      "cell_type": "code",
      "metadata": {
        "id": "z34jWMuYBRve"
      },
      "source": [
        "# X, Y 정의\n"
      ],
      "execution_count": null,
      "outputs": []
    },
    {
      "cell_type": "markdown",
      "metadata": {
        "id": "e3Jv6eYcBoJI"
      },
      "source": [
        "##전처리"
      ]
    },
    {
      "cell_type": "code",
      "metadata": {
        "id": "gZ_gMgXNBbyJ"
      },
      "source": [
        "# 원핫 인코딩\n",
        "from sklearn.preprocessing import OneHotEncoder\n",
        "enc = OneHotEncoder()\n",
        "Y_1hot = enc.fit_transform(Y.reshape(-1,1)).toarray()"
      ],
      "execution_count": null,
      "outputs": []
    },
    {
      "cell_type": "code",
      "metadata": {
        "id": "PTaDz1RzB_bB"
      },
      "source": [
        "# 원핫 인코딩 결과 출력\n"
      ],
      "execution_count": null,
      "outputs": []
    },
    {
      "cell_type": "code",
      "metadata": {
        "id": "0lJrohkxCJdU"
      },
      "source": [
        "# 데이터 shape 출력\n"
      ],
      "execution_count": null,
      "outputs": []
    },
    {
      "cell_type": "markdown",
      "metadata": {
        "id": "U-1_3oZHD21h"
      },
      "source": [
        "##셔플 & train, test"
      ]
    },
    {
      "cell_type": "code",
      "metadata": {
        "id": "ME_T38GFReUt"
      },
      "source": [
        "# 셔플 전 데이터 출력\n"
      ],
      "execution_count": null,
      "outputs": []
    },
    {
      "cell_type": "code",
      "metadata": {
        "id": "h9dU2NgzC8j3"
      },
      "source": [
        "# 셔플\n",
        "from sklearn.utils import shuffle\n"
      ],
      "execution_count": null,
      "outputs": []
    },
    {
      "cell_type": "code",
      "metadata": {
        "id": "8RCmyAqFRXrZ"
      },
      "source": [
        "# 셔플 후 데이터 출력\n"
      ],
      "execution_count": null,
      "outputs": []
    },
    {
      "cell_type": "code",
      "metadata": {
        "id": "_omg0zOnD6mV"
      },
      "source": [
        "# train, test 나누기\n"
      ],
      "execution_count": null,
      "outputs": []
    },
    {
      "cell_type": "code",
      "metadata": {
        "id": "o1rrufZvD7yD"
      },
      "source": [
        "# 최종 데이터 shape 확인\n",
        "print(x_train.shape,y_train.shape,x_test.shape,y_test.shape)"
      ],
      "execution_count": null,
      "outputs": []
    },
    {
      "cell_type": "code",
      "metadata": {
        "id": "6rSyDI8VGFmm"
      },
      "source": [
        "# 딥러닝 모델을 위한 라이브러리 불러오기\n",
        "from keras.models import Sequential\n",
        "from keras.layers import Dense\n",
        "from keras.optimizers import RMSprop"
      ],
      "execution_count": null,
      "outputs": []
    },
    {
      "cell_type": "code",
      "metadata": {
        "id": "yzwBrMj_EhVF"
      },
      "source": [
        "# 모델 설계\n",
        "model = Sequential()\n",
        "model.add(Dense(, activation='', input_dim=))\n",
        "model.add(Dense(, activation=''))\n",
        "model.add(Dense(, activation=''))\n",
        "model.add(Dense(, activation=''))"
      ],
      "execution_count": null,
      "outputs": []
    },
    {
      "cell_type": "code",
      "metadata": {
        "id": "uh8WaMFCF1gA"
      },
      "source": [
        "# 모델 요약\n",
        "model.summary()"
      ],
      "execution_count": null,
      "outputs": []
    },
    {
      "cell_type": "code",
      "metadata": {
        "id": "RK-kCklxGcb-"
      },
      "source": [
        "# loss, optimizer, metric 설정\n",
        "model.compile(loss='categorical_crossentropy',\n",
        "              optimizer=,\n",
        "              metrics=[''])"
      ],
      "execution_count": null,
      "outputs": []
    },
    {
      "cell_type": "code",
      "metadata": {
        "id": "0mQ0GlDTGmd-"
      },
      "source": [
        "# 학습시작\n",
        "hist = model.fit(x=, y=, batch_size=, epochs=, validation_data=())"
      ],
      "execution_count": null,
      "outputs": []
    },
    {
      "cell_type": "code",
      "metadata": {
        "id": "4-mHiDF9HCI_"
      },
      "source": [
        "# 그래프 출력\n",
        "plt.figure(figsize=(8, 4))\n",
        "plt.subplot(1, 2, 1)\n",
        "plt.plot(hist.history['loss'])\n",
        "plt.title(\"loss\")\n",
        "plt.subplot(1, 2, 2)\n",
        "plt.title(\"accuracy\")\n",
        "#plt.ylim(0.75,1)\n",
        "plt.plot(hist.history['accuracy'], 'b-', label=\"training\")\n",
        "plt.plot(hist.history['val_accuracy'], 'r:', label=\"validation\")\n",
        "plt.legend()\n",
        "plt.tight_layout()\n",
        "plt.show()"
      ],
      "execution_count": null,
      "outputs": []
    },
    {
      "cell_type": "code",
      "metadata": {
        "id": "DCT3IgITHZRK"
      },
      "source": [
        "# 예측 값 리스트 만들기\n",
        "y_pred = model.predict_classes(x_test)"
      ],
      "execution_count": null,
      "outputs": []
    },
    {
      "cell_type": "code",
      "metadata": {
        "id": "yUsrNhSrNaRf"
      },
      "source": [
        "# 원핫 -> 원래 숫자로\n",
        "y_true = np.argmax(y_test,axis=1)"
      ],
      "execution_count": null,
      "outputs": []
    },
    {
      "cell_type": "code",
      "metadata": {
        "id": "8E4jbeObOJ26"
      },
      "source": [
        "print(y_pred)\n",
        "print(y_true)"
      ],
      "execution_count": null,
      "outputs": []
    },
    {
      "cell_type": "code",
      "metadata": {
        "id": "nkUfJqCTMTuj"
      },
      "source": [
        "# 틀린거 출력\n",
        "for i in range(len(y_pred)):\n",
        "  if (y_pred[i] != y_true[i]):\n",
        "    print('실제 :', y_true[i], '예측 :', y_pred[i], '\\n')"
      ],
      "execution_count": null,
      "outputs": []
    }
  ]
}