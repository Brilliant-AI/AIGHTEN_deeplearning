{
  "nbformat": 4,
  "nbformat_minor": 0,
  "metadata": {
    "colab": {
      "name": "Iris_MLP",
      "provenance": [],
      "collapsed_sections": []
    },
    "kernelspec": {
      "name": "python3",
      "display_name": "Python 3"
    }
  },
  "cells": [
    {
      "cell_type": "markdown",
      "metadata": {
        "id": "eL0zMo6zAzxP"
      },
      "source": [
        "##초기 셋팅"
      ]
    },
    {
      "cell_type": "code",
      "metadata": {
        "id": "FOB1YTf0-jW3"
      },
      "source": [
        "import tensorflow as tf\n",
        "from tensorflow import keras\n",
        "import numpy as np\n",
        "import matplotlib.pyplot as plt"
      ],
      "execution_count": null,
      "outputs": []
    },
    {
      "cell_type": "code",
      "metadata": {
        "id": "itKpmkTw-sHb"
      },
      "source": [
        "# Iris 데이터 받아오기\n",
        "from sklearn import datasets\n",
        "iris = datasets.load_iris()"
      ],
      "execution_count": null,
      "outputs": []
    },
    {
      "cell_type": "markdown",
      "metadata": {
        "id": "t2x60Tw7A555"
      },
      "source": [
        "##데이터 print 해보기"
      ]
    },
    {
      "cell_type": "code",
      "metadata": {
        "id": "wFRQg4lbAUlU"
      },
      "source": [
        "# iris data 출력해보기\n"
      ],
      "execution_count": 1,
      "outputs": []
    },
    {
      "cell_type": "code",
      "metadata": {
        "id": "pI8uD15KArFC"
      },
      "source": [
        "# iris label 출력해보기\n"
      ],
      "execution_count": 2,
      "outputs": []
    },
    {
      "cell_type": "code",
      "metadata": {
        "id": "z34jWMuYBRve"
      },
      "source": [
        "# X, Y 정의\n"
      ],
      "execution_count": 3,
      "outputs": []
    },
    {
      "cell_type": "markdown",
      "metadata": {
        "id": "e3Jv6eYcBoJI"
      },
      "source": [
        "##전처리"
      ]
    },
    {
      "cell_type": "code",
      "metadata": {
        "id": "gZ_gMgXNBbyJ"
      },
      "source": [
        "# 원핫 인코딩\n",
        "from sklearn.preprocessing import OneHotEncoder\n",
        "enc = OneHotEncoder()\n",
        "Y_1hot = enc.fit_transform(Y.reshape(-1,1)).toarray()"
      ],
      "execution_count": null,
      "outputs": []
    },
    {
      "cell_type": "code",
      "metadata": {
        "id": "PTaDz1RzB_bB"
      },
      "source": [
        "# 원핫 인코딩 결과 출력\n"
      ],
      "execution_count": 4,
      "outputs": []
    },
    {
      "cell_type": "code",
      "metadata": {
        "id": "0lJrohkxCJdU"
      },
      "source": [
        "# 데이터 shape 출력\n"
      ],
      "execution_count": 5,
      "outputs": []
    },
    {
      "cell_type": "markdown",
      "metadata": {
        "id": "U-1_3oZHD21h"
      },
      "source": [
        "##셔플 & train, test"
      ]
    },
    {
      "cell_type": "code",
      "metadata": {
        "id": "ME_T38GFReUt"
      },
      "source": [
        "# 셔플 전 데이터 출력\n"
      ],
      "execution_count": 6,
      "outputs": []
    },
    {
      "cell_type": "code",
      "metadata": {
        "id": "h9dU2NgzC8j3"
      },
      "source": [
        "# 셔플\n",
        "from sklearn.utils import shuffle\n"
      ],
      "execution_count": null,
      "outputs": []
    },
    {
      "cell_type": "code",
      "metadata": {
        "id": "8RCmyAqFRXrZ"
      },
      "source": [
        "# 셔플 후 데이터 출력\n"
      ],
      "execution_count": 7,
      "outputs": []
    },
    {
      "cell_type": "code",
      "metadata": {
        "id": "_omg0zOnD6mV"
      },
      "source": [
        "# train, test 나누기\n"
      ],
      "execution_count": 8,
      "outputs": []
    },
    {
      "cell_type": "code",
      "metadata": {
        "id": "o1rrufZvD7yD"
      },
      "source": [
        "# 최종 데이터 shape 확인\n",
        "print(x_train.shape,y_train.shape,x_test.shape,y_test.shape)"
      ],
      "execution_count": null,
      "outputs": []
    },
    {
      "cell_type": "code",
      "metadata": {
        "id": "6rSyDI8VGFmm"
      },
      "source": [
        "# 딥러닝 모델을 위한 라이브러리 불러오기\n",
        "from keras.models import Sequential\n",
        "from keras.layers import Dense\n",
        "from keras.optimizers import RMSprop"
      ],
      "execution_count": null,
      "outputs": []
    },
    {
      "cell_type": "code",
      "metadata": {
        "id": "yzwBrMj_EhVF"
      },
      "source": [
        "# 모델 설계\n",
        "model = Sequential()\n",
        "model.add(Dense(, activation='', input_dim=))\n",
        "model.add(Dense(, activation=''))\n",
        "model.add(Dense(, activation=''))\n",
        "model.add(Dense(, activation=''))"
      ],
      "execution_count": 9,
      "outputs": []
    },
    {
      "cell_type": "code",
      "metadata": {
        "id": "uh8WaMFCF1gA"
      },
      "source": [
        "# 모델 요약\n",
        "model.summary()"
      ],
      "execution_count": 10,
      "outputs": []
    },
    {
      "cell_type": "code",
      "metadata": {
        "id": "RK-kCklxGcb-"
      },
      "source": [
        "# loss, optimizer, metric 설정\n",
        "model.compile(loss='categorical_crossentropy',\n",
        "              optimizer=,\n",
        "              metrics=[''])"
      ],
      "execution_count": null,
      "outputs": []
    },
    {
      "cell_type": "code",
      "metadata": {
        "id": "0mQ0GlDTGmd-",
        "outputId": "b34114e7-13d5-480e-bae4-d14abec8dc70",
        "colab": {
          "base_uri": "https://localhost:8080/",
          "height": 10683
        }
      },
      "source": [
        "# 학습시작\n",
        "hist = model.fit(x=, y=, batch_size=, epochs=, validation_data=())"
      ],
      "execution_count": null,
      "outputs": [
        {
          "output_type": "stream",
          "text": [
            "Epoch 1/300\n",
            "7/7 [==============================] - 0s 21ms/step - loss: 1.1732 - accuracy: 0.3800 - val_loss: 1.2429 - val_accuracy: 0.2400\n",
            "Epoch 2/300\n",
            "7/7 [==============================] - 0s 4ms/step - loss: 1.1224 - accuracy: 0.3800 - val_loss: 1.1762 - val_accuracy: 0.2400\n",
            "Epoch 3/300\n",
            "7/7 [==============================] - 0s 4ms/step - loss: 1.1032 - accuracy: 0.3800 - val_loss: 1.1525 - val_accuracy: 0.2400\n",
            "Epoch 4/300\n",
            "7/7 [==============================] - 0s 4ms/step - loss: 1.0967 - accuracy: 0.3800 - val_loss: 1.1361 - val_accuracy: 0.2400\n",
            "Epoch 5/300\n",
            "7/7 [==============================] - 0s 4ms/step - loss: 1.0929 - accuracy: 0.3800 - val_loss: 1.1156 - val_accuracy: 0.2400\n",
            "Epoch 6/300\n",
            "7/7 [==============================] - 0s 4ms/step - loss: 1.0903 - accuracy: 0.3800 - val_loss: 1.1285 - val_accuracy: 0.2400\n",
            "Epoch 7/300\n",
            "7/7 [==============================] - 0s 4ms/step - loss: 1.0929 - accuracy: 0.3800 - val_loss: 1.1093 - val_accuracy: 0.2400\n",
            "Epoch 8/300\n",
            "7/7 [==============================] - 0s 4ms/step - loss: 1.0875 - accuracy: 0.3800 - val_loss: 1.1190 - val_accuracy: 0.2400\n",
            "Epoch 9/300\n",
            "7/7 [==============================] - 0s 4ms/step - loss: 1.0846 - accuracy: 0.3800 - val_loss: 1.1187 - val_accuracy: 0.2400\n",
            "Epoch 10/300\n",
            "7/7 [==============================] - 0s 4ms/step - loss: 1.0837 - accuracy: 0.3800 - val_loss: 1.1100 - val_accuracy: 0.2400\n",
            "Epoch 11/300\n",
            "7/7 [==============================] - 0s 4ms/step - loss: 1.0774 - accuracy: 0.3800 - val_loss: 1.1167 - val_accuracy: 0.2400\n",
            "Epoch 12/300\n",
            "7/7 [==============================] - 0s 4ms/step - loss: 1.0765 - accuracy: 0.3800 - val_loss: 1.1042 - val_accuracy: 0.2400\n",
            "Epoch 13/300\n",
            "7/7 [==============================] - 0s 4ms/step - loss: 1.0713 - accuracy: 0.3800 - val_loss: 1.0936 - val_accuracy: 0.2400\n",
            "Epoch 14/300\n",
            "7/7 [==============================] - 0s 5ms/step - loss: 1.0683 - accuracy: 0.3800 - val_loss: 1.0823 - val_accuracy: 0.2400\n",
            "Epoch 15/300\n",
            "7/7 [==============================] - 0s 4ms/step - loss: 1.0636 - accuracy: 0.4200 - val_loss: 1.0893 - val_accuracy: 0.2400\n",
            "Epoch 16/300\n",
            "7/7 [==============================] - 0s 4ms/step - loss: 1.0585 - accuracy: 0.3800 - val_loss: 1.0777 - val_accuracy: 0.2400\n",
            "Epoch 17/300\n",
            "7/7 [==============================] - 0s 4ms/step - loss: 1.0518 - accuracy: 0.3800 - val_loss: 1.0799 - val_accuracy: 0.2400\n",
            "Epoch 18/300\n",
            "7/7 [==============================] - 0s 4ms/step - loss: 1.0453 - accuracy: 0.3800 - val_loss: 1.0685 - val_accuracy: 0.2600\n",
            "Epoch 19/300\n",
            "7/7 [==============================] - 0s 4ms/step - loss: 1.0404 - accuracy: 0.4000 - val_loss: 1.0586 - val_accuracy: 0.6000\n",
            "Epoch 20/300\n",
            "7/7 [==============================] - 0s 4ms/step - loss: 1.0271 - accuracy: 0.5300 - val_loss: 1.0600 - val_accuracy: 0.2600\n",
            "Epoch 21/300\n",
            "7/7 [==============================] - 0s 4ms/step - loss: 1.0221 - accuracy: 0.4200 - val_loss: 1.0449 - val_accuracy: 0.2400\n",
            "Epoch 22/300\n",
            "7/7 [==============================] - 0s 4ms/step - loss: 1.0108 - accuracy: 0.4400 - val_loss: 1.0315 - val_accuracy: 0.6200\n",
            "Epoch 23/300\n",
            "7/7 [==============================] - 0s 4ms/step - loss: 1.0032 - accuracy: 0.6800 - val_loss: 1.0348 - val_accuracy: 0.6000\n",
            "Epoch 24/300\n",
            "7/7 [==============================] - 0s 4ms/step - loss: 0.9889 - accuracy: 0.6300 - val_loss: 1.0194 - val_accuracy: 0.6200\n",
            "Epoch 25/300\n",
            "7/7 [==============================] - 0s 4ms/step - loss: 0.9773 - accuracy: 0.6900 - val_loss: 1.0061 - val_accuracy: 0.6800\n",
            "Epoch 26/300\n",
            "7/7 [==============================] - 0s 5ms/step - loss: 0.9634 - accuracy: 0.7200 - val_loss: 0.9810 - val_accuracy: 0.6600\n",
            "Epoch 27/300\n",
            "7/7 [==============================] - 0s 5ms/step - loss: 0.9537 - accuracy: 0.7400 - val_loss: 0.9820 - val_accuracy: 0.6200\n",
            "Epoch 28/300\n",
            "7/7 [==============================] - 0s 4ms/step - loss: 0.9333 - accuracy: 0.6900 - val_loss: 0.9852 - val_accuracy: 0.6200\n",
            "Epoch 29/300\n",
            "7/7 [==============================] - 0s 4ms/step - loss: 0.9218 - accuracy: 0.6700 - val_loss: 0.9520 - val_accuracy: 0.6200\n",
            "Epoch 30/300\n",
            "7/7 [==============================] - 0s 4ms/step - loss: 0.9050 - accuracy: 0.6900 - val_loss: 0.9469 - val_accuracy: 0.6200\n",
            "Epoch 31/300\n",
            "7/7 [==============================] - 0s 4ms/step - loss: 0.8863 - accuracy: 0.7800 - val_loss: 0.9255 - val_accuracy: 0.6200\n",
            "Epoch 32/300\n",
            "7/7 [==============================] - 0s 4ms/step - loss: 0.8685 - accuracy: 0.6900 - val_loss: 0.9073 - val_accuracy: 0.6200\n",
            "Epoch 33/300\n",
            "7/7 [==============================] - 0s 4ms/step - loss: 0.8484 - accuracy: 0.6900 - val_loss: 0.8920 - val_accuracy: 0.6200\n",
            "Epoch 34/300\n",
            "7/7 [==============================] - 0s 4ms/step - loss: 0.8282 - accuracy: 0.6900 - val_loss: 0.8644 - val_accuracy: 0.6200\n",
            "Epoch 35/300\n",
            "7/7 [==============================] - 0s 4ms/step - loss: 0.8074 - accuracy: 0.6900 - val_loss: 0.8435 - val_accuracy: 0.6200\n",
            "Epoch 36/300\n",
            "7/7 [==============================] - 0s 4ms/step - loss: 0.7830 - accuracy: 0.6900 - val_loss: 0.8358 - val_accuracy: 0.6200\n",
            "Epoch 37/300\n",
            "7/7 [==============================] - 0s 4ms/step - loss: 0.7613 - accuracy: 0.6900 - val_loss: 0.8081 - val_accuracy: 0.6200\n",
            "Epoch 38/300\n",
            "7/7 [==============================] - 0s 4ms/step - loss: 0.7393 - accuracy: 0.7000 - val_loss: 0.7932 - val_accuracy: 0.6200\n",
            "Epoch 39/300\n",
            "7/7 [==============================] - 0s 4ms/step - loss: 0.7144 - accuracy: 0.6900 - val_loss: 0.7622 - val_accuracy: 0.7800\n",
            "Epoch 40/300\n",
            "7/7 [==============================] - 0s 4ms/step - loss: 0.6960 - accuracy: 0.7000 - val_loss: 0.7522 - val_accuracy: 0.9600\n",
            "Epoch 41/300\n",
            "7/7 [==============================] - 0s 4ms/step - loss: 0.6741 - accuracy: 0.8700 - val_loss: 0.7278 - val_accuracy: 0.6600\n",
            "Epoch 42/300\n",
            "7/7 [==============================] - 0s 4ms/step - loss: 0.6541 - accuracy: 0.7100 - val_loss: 0.7064 - val_accuracy: 0.7600\n",
            "Epoch 43/300\n",
            "7/7 [==============================] - 0s 4ms/step - loss: 0.6323 - accuracy: 0.7100 - val_loss: 0.6987 - val_accuracy: 0.9600\n",
            "Epoch 44/300\n",
            "7/7 [==============================] - 0s 4ms/step - loss: 0.6129 - accuracy: 0.8900 - val_loss: 0.6788 - val_accuracy: 0.7400\n",
            "Epoch 45/300\n",
            "7/7 [==============================] - 0s 5ms/step - loss: 0.5936 - accuracy: 0.7200 - val_loss: 0.6579 - val_accuracy: 0.6600\n",
            "Epoch 46/300\n",
            "7/7 [==============================] - 0s 5ms/step - loss: 0.5765 - accuracy: 0.7200 - val_loss: 0.6385 - val_accuracy: 0.6600\n",
            "Epoch 47/300\n",
            "7/7 [==============================] - 0s 4ms/step - loss: 0.5574 - accuracy: 0.7500 - val_loss: 0.6210 - val_accuracy: 0.6800\n",
            "Epoch 48/300\n",
            "7/7 [==============================] - 0s 4ms/step - loss: 0.5413 - accuracy: 0.7800 - val_loss: 0.6048 - val_accuracy: 0.7400\n",
            "Epoch 49/300\n",
            "7/7 [==============================] - 0s 4ms/step - loss: 0.5243 - accuracy: 0.8300 - val_loss: 0.5889 - val_accuracy: 0.7600\n",
            "Epoch 50/300\n",
            "7/7 [==============================] - 0s 4ms/step - loss: 0.5089 - accuracy: 0.7500 - val_loss: 0.5766 - val_accuracy: 1.0000\n",
            "Epoch 51/300\n",
            "7/7 [==============================] - 0s 4ms/step - loss: 0.4968 - accuracy: 0.8900 - val_loss: 0.5623 - val_accuracy: 0.9800\n",
            "Epoch 52/300\n",
            "7/7 [==============================] - 0s 4ms/step - loss: 0.4824 - accuracy: 0.9500 - val_loss: 0.5490 - val_accuracy: 1.0000\n",
            "Epoch 53/300\n",
            "7/7 [==============================] - 0s 4ms/step - loss: 0.4731 - accuracy: 0.9000 - val_loss: 0.5370 - val_accuracy: 1.0000\n",
            "Epoch 54/300\n",
            "7/7 [==============================] - 0s 4ms/step - loss: 0.4620 - accuracy: 0.9300 - val_loss: 0.5256 - val_accuracy: 0.9000\n",
            "Epoch 55/300\n",
            "7/7 [==============================] - 0s 5ms/step - loss: 0.4533 - accuracy: 0.8800 - val_loss: 0.5163 - val_accuracy: 0.9000\n",
            "Epoch 56/300\n",
            "7/7 [==============================] - 0s 4ms/step - loss: 0.4432 - accuracy: 0.8600 - val_loss: 0.5077 - val_accuracy: 0.9000\n",
            "Epoch 57/300\n",
            "7/7 [==============================] - 0s 4ms/step - loss: 0.4375 - accuracy: 0.8600 - val_loss: 0.4995 - val_accuracy: 0.9000\n",
            "Epoch 58/300\n",
            "7/7 [==============================] - 0s 4ms/step - loss: 0.4298 - accuracy: 0.8700 - val_loss: 0.4905 - val_accuracy: 0.9400\n",
            "Epoch 59/300\n",
            "7/7 [==============================] - 0s 4ms/step - loss: 0.4225 - accuracy: 0.9100 - val_loss: 0.4782 - val_accuracy: 1.0000\n",
            "Epoch 60/300\n",
            "7/7 [==============================] - 0s 4ms/step - loss: 0.4137 - accuracy: 0.9200 - val_loss: 0.4699 - val_accuracy: 1.0000\n",
            "Epoch 61/300\n",
            "7/7 [==============================] - 0s 4ms/step - loss: 0.4098 - accuracy: 0.9300 - val_loss: 0.4633 - val_accuracy: 0.9800\n",
            "Epoch 62/300\n",
            "7/7 [==============================] - 0s 4ms/step - loss: 0.3998 - accuracy: 0.9600 - val_loss: 0.4508 - val_accuracy: 1.0000\n",
            "Epoch 63/300\n",
            "7/7 [==============================] - 0s 4ms/step - loss: 0.3929 - accuracy: 0.9600 - val_loss: 0.4406 - val_accuracy: 1.0000\n",
            "Epoch 64/300\n",
            "7/7 [==============================] - 0s 4ms/step - loss: 0.3840 - accuracy: 0.9300 - val_loss: 0.4299 - val_accuracy: 0.9800\n",
            "Epoch 65/300\n",
            "7/7 [==============================] - 0s 4ms/step - loss: 0.3780 - accuracy: 0.9400 - val_loss: 0.4230 - val_accuracy: 0.9800\n",
            "Epoch 66/300\n",
            "7/7 [==============================] - 0s 4ms/step - loss: 0.3714 - accuracy: 0.9500 - val_loss: 0.4112 - val_accuracy: 0.9800\n",
            "Epoch 67/300\n",
            "7/7 [==============================] - 0s 4ms/step - loss: 0.3648 - accuracy: 0.9700 - val_loss: 0.4011 - val_accuracy: 0.9800\n",
            "Epoch 68/300\n",
            "7/7 [==============================] - 0s 4ms/step - loss: 0.3594 - accuracy: 0.9300 - val_loss: 0.3907 - val_accuracy: 0.9800\n",
            "Epoch 69/300\n",
            "7/7 [==============================] - 0s 4ms/step - loss: 0.3511 - accuracy: 0.9600 - val_loss: 0.3822 - val_accuracy: 1.0000\n",
            "Epoch 70/300\n",
            "7/7 [==============================] - 0s 4ms/step - loss: 0.3477 - accuracy: 0.9300 - val_loss: 0.3829 - val_accuracy: 0.9800\n",
            "Epoch 71/300\n",
            "7/7 [==============================] - 0s 4ms/step - loss: 0.3445 - accuracy: 0.9300 - val_loss: 0.3758 - val_accuracy: 0.9800\n",
            "Epoch 72/300\n",
            "7/7 [==============================] - 0s 4ms/step - loss: 0.3398 - accuracy: 0.9400 - val_loss: 0.3632 - val_accuracy: 0.9800\n",
            "Epoch 73/300\n",
            "7/7 [==============================] - 0s 4ms/step - loss: 0.3329 - accuracy: 0.9500 - val_loss: 0.3567 - val_accuracy: 0.9800\n",
            "Epoch 74/300\n",
            "7/7 [==============================] - 0s 5ms/step - loss: 0.3265 - accuracy: 0.9400 - val_loss: 0.3447 - val_accuracy: 0.9800\n",
            "Epoch 75/300\n",
            "7/7 [==============================] - 0s 4ms/step - loss: 0.3187 - accuracy: 0.9500 - val_loss: 0.3566 - val_accuracy: 0.9800\n",
            "Epoch 76/300\n",
            "7/7 [==============================] - 0s 4ms/step - loss: 0.3180 - accuracy: 0.9400 - val_loss: 0.3275 - val_accuracy: 1.0000\n",
            "Epoch 77/300\n",
            "7/7 [==============================] - 0s 4ms/step - loss: 0.3113 - accuracy: 0.9600 - val_loss: 0.3202 - val_accuracy: 1.0000\n",
            "Epoch 78/300\n",
            "7/7 [==============================] - 0s 4ms/step - loss: 0.3029 - accuracy: 0.9500 - val_loss: 0.3147 - val_accuracy: 0.9800\n",
            "Epoch 79/300\n",
            "7/7 [==============================] - 0s 4ms/step - loss: 0.3020 - accuracy: 0.9700 - val_loss: 0.3120 - val_accuracy: 0.9800\n",
            "Epoch 80/300\n",
            "7/7 [==============================] - 0s 4ms/step - loss: 0.2939 - accuracy: 0.9500 - val_loss: 0.3042 - val_accuracy: 0.9800\n",
            "Epoch 81/300\n",
            "7/7 [==============================] - 0s 4ms/step - loss: 0.2899 - accuracy: 0.9600 - val_loss: 0.2914 - val_accuracy: 1.0000\n",
            "Epoch 82/300\n",
            "7/7 [==============================] - 0s 4ms/step - loss: 0.2841 - accuracy: 0.9600 - val_loss: 0.2843 - val_accuracy: 1.0000\n",
            "Epoch 83/300\n",
            "7/7 [==============================] - 0s 4ms/step - loss: 0.2783 - accuracy: 0.9500 - val_loss: 0.2784 - val_accuracy: 0.9800\n",
            "Epoch 84/300\n",
            "7/7 [==============================] - 0s 4ms/step - loss: 0.2787 - accuracy: 0.9600 - val_loss: 0.2705 - val_accuracy: 0.9800\n",
            "Epoch 85/300\n",
            "7/7 [==============================] - 0s 4ms/step - loss: 0.2671 - accuracy: 0.9600 - val_loss: 0.2587 - val_accuracy: 1.0000\n",
            "Epoch 86/300\n",
            "7/7 [==============================] - 0s 4ms/step - loss: 0.2612 - accuracy: 0.9600 - val_loss: 0.2568 - val_accuracy: 0.9800\n",
            "Epoch 87/300\n",
            "7/7 [==============================] - 0s 4ms/step - loss: 0.2592 - accuracy: 0.9600 - val_loss: 0.2583 - val_accuracy: 0.9800\n",
            "Epoch 88/300\n",
            "7/7 [==============================] - 0s 4ms/step - loss: 0.2529 - accuracy: 0.9600 - val_loss: 0.2513 - val_accuracy: 0.9800\n",
            "Epoch 89/300\n",
            "7/7 [==============================] - 0s 4ms/step - loss: 0.2482 - accuracy: 0.9600 - val_loss: 0.2429 - val_accuracy: 0.9800\n",
            "Epoch 90/300\n",
            "7/7 [==============================] - 0s 4ms/step - loss: 0.2437 - accuracy: 0.9600 - val_loss: 0.2263 - val_accuracy: 1.0000\n",
            "Epoch 91/300\n",
            "7/7 [==============================] - 0s 4ms/step - loss: 0.2377 - accuracy: 0.9600 - val_loss: 0.2194 - val_accuracy: 1.0000\n",
            "Epoch 92/300\n",
            "7/7 [==============================] - 0s 4ms/step - loss: 0.2320 - accuracy: 0.9600 - val_loss: 0.2190 - val_accuracy: 0.9800\n",
            "Epoch 93/300\n",
            "7/7 [==============================] - 0s 4ms/step - loss: 0.2360 - accuracy: 0.9500 - val_loss: 0.2097 - val_accuracy: 0.9800\n",
            "Epoch 94/300\n",
            "7/7 [==============================] - 0s 4ms/step - loss: 0.2258 - accuracy: 0.9700 - val_loss: 0.2011 - val_accuracy: 1.0000\n",
            "Epoch 95/300\n",
            "7/7 [==============================] - 0s 4ms/step - loss: 0.2241 - accuracy: 0.9600 - val_loss: 0.1962 - val_accuracy: 1.0000\n",
            "Epoch 96/300\n",
            "7/7 [==============================] - 0s 4ms/step - loss: 0.2169 - accuracy: 0.9600 - val_loss: 0.2082 - val_accuracy: 0.9800\n",
            "Epoch 97/300\n",
            "7/7 [==============================] - 0s 4ms/step - loss: 0.2167 - accuracy: 0.9600 - val_loss: 0.2034 - val_accuracy: 0.9800\n",
            "Epoch 98/300\n",
            "7/7 [==============================] - 0s 4ms/step - loss: 0.2147 - accuracy: 0.9600 - val_loss: 0.1955 - val_accuracy: 0.9800\n",
            "Epoch 99/300\n",
            "7/7 [==============================] - 0s 4ms/step - loss: 0.2082 - accuracy: 0.9500 - val_loss: 0.1811 - val_accuracy: 0.9800\n",
            "Epoch 100/300\n",
            "7/7 [==============================] - 0s 4ms/step - loss: 0.2036 - accuracy: 0.9700 - val_loss: 0.1734 - val_accuracy: 1.0000\n",
            "Epoch 101/300\n",
            "7/7 [==============================] - 0s 4ms/step - loss: 0.1981 - accuracy: 0.9600 - val_loss: 0.1871 - val_accuracy: 0.9800\n",
            "Epoch 102/300\n",
            "7/7 [==============================] - 0s 4ms/step - loss: 0.1981 - accuracy: 0.9300 - val_loss: 0.1620 - val_accuracy: 1.0000\n",
            "Epoch 103/300\n",
            "7/7 [==============================] - 0s 5ms/step - loss: 0.2014 - accuracy: 0.9500 - val_loss: 0.1582 - val_accuracy: 1.0000\n",
            "Epoch 104/300\n",
            "7/7 [==============================] - 0s 4ms/step - loss: 0.1899 - accuracy: 0.9700 - val_loss: 0.1572 - val_accuracy: 1.0000\n",
            "Epoch 105/300\n",
            "7/7 [==============================] - 0s 4ms/step - loss: 0.1876 - accuracy: 0.9700 - val_loss: 0.1507 - val_accuracy: 1.0000\n",
            "Epoch 106/300\n",
            "7/7 [==============================] - 0s 4ms/step - loss: 0.1870 - accuracy: 0.9600 - val_loss: 0.1527 - val_accuracy: 0.9800\n",
            "Epoch 107/300\n",
            "7/7 [==============================] - 0s 4ms/step - loss: 0.1841 - accuracy: 0.9500 - val_loss: 0.1441 - val_accuracy: 1.0000\n",
            "Epoch 108/300\n",
            "7/7 [==============================] - 0s 4ms/step - loss: 0.1794 - accuracy: 0.9600 - val_loss: 0.1467 - val_accuracy: 0.9800\n",
            "Epoch 109/300\n",
            "7/7 [==============================] - 0s 4ms/step - loss: 0.1796 - accuracy: 0.9500 - val_loss: 0.1604 - val_accuracy: 0.9800\n",
            "Epoch 110/300\n",
            "7/7 [==============================] - 0s 4ms/step - loss: 0.1770 - accuracy: 0.9600 - val_loss: 0.1574 - val_accuracy: 0.9800\n",
            "Epoch 111/300\n",
            "7/7 [==============================] - 0s 4ms/step - loss: 0.1750 - accuracy: 0.9500 - val_loss: 0.1302 - val_accuracy: 1.0000\n",
            "Epoch 112/300\n",
            "7/7 [==============================] - 0s 4ms/step - loss: 0.1660 - accuracy: 0.9700 - val_loss: 0.1253 - val_accuracy: 1.0000\n",
            "Epoch 113/300\n",
            "7/7 [==============================] - 0s 4ms/step - loss: 0.1649 - accuracy: 0.9700 - val_loss: 0.1537 - val_accuracy: 0.9800\n",
            "Epoch 114/300\n",
            "7/7 [==============================] - 0s 4ms/step - loss: 0.1659 - accuracy: 0.9600 - val_loss: 0.1191 - val_accuracy: 1.0000\n",
            "Epoch 115/300\n",
            "7/7 [==============================] - 0s 4ms/step - loss: 0.1613 - accuracy: 0.9600 - val_loss: 0.1210 - val_accuracy: 0.9800\n",
            "Epoch 116/300\n",
            "7/7 [==============================] - 0s 4ms/step - loss: 0.1573 - accuracy: 0.9700 - val_loss: 0.1119 - val_accuracy: 1.0000\n",
            "Epoch 117/300\n",
            "7/7 [==============================] - 0s 4ms/step - loss: 0.1578 - accuracy: 0.9700 - val_loss: 0.1192 - val_accuracy: 0.9800\n",
            "Epoch 118/300\n",
            "7/7 [==============================] - 0s 4ms/step - loss: 0.1593 - accuracy: 0.9400 - val_loss: 0.1219 - val_accuracy: 0.9800\n",
            "Epoch 119/300\n",
            "7/7 [==============================] - 0s 4ms/step - loss: 0.1561 - accuracy: 0.9500 - val_loss: 0.1209 - val_accuracy: 0.9800\n",
            "Epoch 120/300\n",
            "7/7 [==============================] - 0s 4ms/step - loss: 0.1513 - accuracy: 0.9600 - val_loss: 0.1059 - val_accuracy: 1.0000\n",
            "Epoch 121/300\n",
            "7/7 [==============================] - 0s 4ms/step - loss: 0.1492 - accuracy: 0.9600 - val_loss: 0.1104 - val_accuracy: 0.9800\n",
            "Epoch 122/300\n",
            "7/7 [==============================] - 0s 4ms/step - loss: 0.1460 - accuracy: 0.9600 - val_loss: 0.1308 - val_accuracy: 0.9800\n",
            "Epoch 123/300\n",
            "7/7 [==============================] - 0s 4ms/step - loss: 0.1534 - accuracy: 0.9600 - val_loss: 0.1161 - val_accuracy: 0.9800\n",
            "Epoch 124/300\n",
            "7/7 [==============================] - 0s 4ms/step - loss: 0.1426 - accuracy: 0.9700 - val_loss: 0.0953 - val_accuracy: 1.0000\n",
            "Epoch 125/300\n",
            "7/7 [==============================] - 0s 4ms/step - loss: 0.1441 - accuracy: 0.9700 - val_loss: 0.0931 - val_accuracy: 1.0000\n",
            "Epoch 126/300\n",
            "7/7 [==============================] - 0s 4ms/step - loss: 0.1416 - accuracy: 0.9500 - val_loss: 0.0911 - val_accuracy: 1.0000\n",
            "Epoch 127/300\n",
            "7/7 [==============================] - 0s 4ms/step - loss: 0.1399 - accuracy: 0.9600 - val_loss: 0.0977 - val_accuracy: 0.9800\n",
            "Epoch 128/300\n",
            "7/7 [==============================] - 0s 4ms/step - loss: 0.1396 - accuracy: 0.9700 - val_loss: 0.0924 - val_accuracy: 0.9800\n",
            "Epoch 129/300\n",
            "7/7 [==============================] - 0s 4ms/step - loss: 0.1348 - accuracy: 0.9700 - val_loss: 0.1015 - val_accuracy: 0.9800\n",
            "Epoch 130/300\n",
            "7/7 [==============================] - 0s 4ms/step - loss: 0.1334 - accuracy: 0.9500 - val_loss: 0.0877 - val_accuracy: 0.9800\n",
            "Epoch 131/300\n",
            "7/7 [==============================] - 0s 4ms/step - loss: 0.1328 - accuracy: 0.9700 - val_loss: 0.0813 - val_accuracy: 1.0000\n",
            "Epoch 132/300\n",
            "7/7 [==============================] - 0s 4ms/step - loss: 0.1348 - accuracy: 0.9700 - val_loss: 0.1008 - val_accuracy: 0.9800\n",
            "Epoch 133/300\n",
            "7/7 [==============================] - 0s 4ms/step - loss: 0.1352 - accuracy: 0.9600 - val_loss: 0.0804 - val_accuracy: 1.0000\n",
            "Epoch 134/300\n",
            "7/7 [==============================] - 0s 5ms/step - loss: 0.1303 - accuracy: 0.9700 - val_loss: 0.0979 - val_accuracy: 0.9800\n",
            "Epoch 135/300\n",
            "7/7 [==============================] - 0s 4ms/step - loss: 0.1339 - accuracy: 0.9500 - val_loss: 0.1002 - val_accuracy: 0.9800\n",
            "Epoch 136/300\n",
            "7/7 [==============================] - 0s 4ms/step - loss: 0.1331 - accuracy: 0.9400 - val_loss: 0.0963 - val_accuracy: 0.9800\n",
            "Epoch 137/300\n",
            "7/7 [==============================] - 0s 4ms/step - loss: 0.1335 - accuracy: 0.9500 - val_loss: 0.0743 - val_accuracy: 1.0000\n",
            "Epoch 138/300\n",
            "7/7 [==============================] - 0s 4ms/step - loss: 0.1258 - accuracy: 0.9700 - val_loss: 0.0736 - val_accuracy: 1.0000\n",
            "Epoch 139/300\n",
            "7/7 [==============================] - 0s 4ms/step - loss: 0.1273 - accuracy: 0.9600 - val_loss: 0.0711 - val_accuracy: 1.0000\n",
            "Epoch 140/300\n",
            "7/7 [==============================] - 0s 4ms/step - loss: 0.1255 - accuracy: 0.9700 - val_loss: 0.0702 - val_accuracy: 1.0000\n",
            "Epoch 141/300\n",
            "7/7 [==============================] - 0s 4ms/step - loss: 0.1231 - accuracy: 0.9700 - val_loss: 0.0745 - val_accuracy: 0.9800\n",
            "Epoch 142/300\n",
            "7/7 [==============================] - 0s 4ms/step - loss: 0.1199 - accuracy: 0.9700 - val_loss: 0.0684 - val_accuracy: 1.0000\n",
            "Epoch 143/300\n",
            "7/7 [==============================] - 0s 6ms/step - loss: 0.1213 - accuracy: 0.9600 - val_loss: 0.0647 - val_accuracy: 1.0000\n",
            "Epoch 144/300\n",
            "7/7 [==============================] - 0s 4ms/step - loss: 0.1222 - accuracy: 0.9600 - val_loss: 0.0633 - val_accuracy: 1.0000\n",
            "Epoch 145/300\n",
            "7/7 [==============================] - 0s 4ms/step - loss: 0.1161 - accuracy: 0.9600 - val_loss: 0.0695 - val_accuracy: 0.9800\n",
            "Epoch 146/300\n",
            "7/7 [==============================] - 0s 4ms/step - loss: 0.1211 - accuracy: 0.9600 - val_loss: 0.0747 - val_accuracy: 0.9800\n",
            "Epoch 147/300\n",
            "7/7 [==============================] - 0s 4ms/step - loss: 0.1206 - accuracy: 0.9600 - val_loss: 0.0624 - val_accuracy: 1.0000\n",
            "Epoch 148/300\n",
            "7/7 [==============================] - 0s 4ms/step - loss: 0.1177 - accuracy: 0.9600 - val_loss: 0.0648 - val_accuracy: 0.9800\n",
            "Epoch 149/300\n",
            "7/7 [==============================] - 0s 4ms/step - loss: 0.1212 - accuracy: 0.9600 - val_loss: 0.0640 - val_accuracy: 0.9800\n",
            "Epoch 150/300\n",
            "7/7 [==============================] - 0s 4ms/step - loss: 0.1101 - accuracy: 0.9600 - val_loss: 0.0570 - val_accuracy: 1.0000\n",
            "Epoch 151/300\n",
            "7/7 [==============================] - 0s 4ms/step - loss: 0.1156 - accuracy: 0.9600 - val_loss: 0.0557 - val_accuracy: 1.0000\n",
            "Epoch 152/300\n",
            "7/7 [==============================] - 0s 4ms/step - loss: 0.1072 - accuracy: 0.9600 - val_loss: 0.1009 - val_accuracy: 0.9800\n",
            "Epoch 153/300\n",
            "7/7 [==============================] - 0s 4ms/step - loss: 0.1226 - accuracy: 0.9500 - val_loss: 0.0546 - val_accuracy: 1.0000\n",
            "Epoch 154/300\n",
            "7/7 [==============================] - 0s 4ms/step - loss: 0.1151 - accuracy: 0.9600 - val_loss: 0.0590 - val_accuracy: 0.9800\n",
            "Epoch 155/300\n",
            "7/7 [==============================] - 0s 4ms/step - loss: 0.1098 - accuracy: 0.9700 - val_loss: 0.0519 - val_accuracy: 1.0000\n",
            "Epoch 156/300\n",
            "7/7 [==============================] - 0s 4ms/step - loss: 0.1135 - accuracy: 0.9600 - val_loss: 0.0520 - val_accuracy: 1.0000\n",
            "Epoch 157/300\n",
            "7/7 [==============================] - 0s 4ms/step - loss: 0.1085 - accuracy: 0.9600 - val_loss: 0.0580 - val_accuracy: 0.9800\n",
            "Epoch 158/300\n",
            "7/7 [==============================] - 0s 4ms/step - loss: 0.1071 - accuracy: 0.9600 - val_loss: 0.0538 - val_accuracy: 1.0000\n",
            "Epoch 159/300\n",
            "7/7 [==============================] - 0s 4ms/step - loss: 0.1038 - accuracy: 0.9700 - val_loss: 0.0518 - val_accuracy: 1.0000\n",
            "Epoch 160/300\n",
            "7/7 [==============================] - 0s 4ms/step - loss: 0.1111 - accuracy: 0.9500 - val_loss: 0.0493 - val_accuracy: 1.0000\n",
            "Epoch 161/300\n",
            "7/7 [==============================] - 0s 4ms/step - loss: 0.1049 - accuracy: 0.9600 - val_loss: 0.0481 - val_accuracy: 1.0000\n",
            "Epoch 162/300\n",
            "7/7 [==============================] - 0s 4ms/step - loss: 0.1038 - accuracy: 0.9600 - val_loss: 0.0648 - val_accuracy: 0.9800\n",
            "Epoch 163/300\n",
            "7/7 [==============================] - 0s 5ms/step - loss: 0.1108 - accuracy: 0.9500 - val_loss: 0.0457 - val_accuracy: 1.0000\n",
            "Epoch 164/300\n",
            "7/7 [==============================] - 0s 4ms/step - loss: 0.1081 - accuracy: 0.9700 - val_loss: 0.0444 - val_accuracy: 1.0000\n",
            "Epoch 165/300\n",
            "7/7 [==============================] - 0s 4ms/step - loss: 0.1026 - accuracy: 0.9600 - val_loss: 0.0540 - val_accuracy: 0.9800\n",
            "Epoch 166/300\n",
            "7/7 [==============================] - 0s 4ms/step - loss: 0.1032 - accuracy: 0.9600 - val_loss: 0.0482 - val_accuracy: 1.0000\n",
            "Epoch 167/300\n",
            "7/7 [==============================] - 0s 4ms/step - loss: 0.1037 - accuracy: 0.9700 - val_loss: 0.0509 - val_accuracy: 0.9800\n",
            "Epoch 168/300\n",
            "7/7 [==============================] - 0s 4ms/step - loss: 0.1089 - accuracy: 0.9600 - val_loss: 0.0469 - val_accuracy: 1.0000\n",
            "Epoch 169/300\n",
            "7/7 [==============================] - 0s 4ms/step - loss: 0.0992 - accuracy: 0.9700 - val_loss: 0.0829 - val_accuracy: 0.9800\n",
            "Epoch 170/300\n",
            "7/7 [==============================] - 0s 4ms/step - loss: 0.1061 - accuracy: 0.9500 - val_loss: 0.0412 - val_accuracy: 1.0000\n",
            "Epoch 171/300\n",
            "7/7 [==============================] - 0s 4ms/step - loss: 0.1051 - accuracy: 0.9700 - val_loss: 0.0410 - val_accuracy: 1.0000\n",
            "Epoch 172/300\n",
            "7/7 [==============================] - 0s 4ms/step - loss: 0.1052 - accuracy: 0.9600 - val_loss: 0.0411 - val_accuracy: 1.0000\n",
            "Epoch 173/300\n",
            "7/7 [==============================] - 0s 4ms/step - loss: 0.0997 - accuracy: 0.9700 - val_loss: 0.0402 - val_accuracy: 1.0000\n",
            "Epoch 174/300\n",
            "7/7 [==============================] - 0s 5ms/step - loss: 0.0993 - accuracy: 0.9700 - val_loss: 0.0521 - val_accuracy: 0.9800\n",
            "Epoch 175/300\n",
            "7/7 [==============================] - 0s 5ms/step - loss: 0.0969 - accuracy: 0.9500 - val_loss: 0.0398 - val_accuracy: 1.0000\n",
            "Epoch 176/300\n",
            "7/7 [==============================] - 0s 4ms/step - loss: 0.1004 - accuracy: 0.9700 - val_loss: 0.0397 - val_accuracy: 1.0000\n",
            "Epoch 177/300\n",
            "7/7 [==============================] - 0s 4ms/step - loss: 0.1050 - accuracy: 0.9700 - val_loss: 0.0563 - val_accuracy: 0.9800\n",
            "Epoch 178/300\n",
            "7/7 [==============================] - 0s 4ms/step - loss: 0.1013 - accuracy: 0.9600 - val_loss: 0.0430 - val_accuracy: 0.9800\n",
            "Epoch 179/300\n",
            "7/7 [==============================] - 0s 4ms/step - loss: 0.1003 - accuracy: 0.9700 - val_loss: 0.0393 - val_accuracy: 1.0000\n",
            "Epoch 180/300\n",
            "7/7 [==============================] - 0s 4ms/step - loss: 0.0939 - accuracy: 0.9500 - val_loss: 0.0400 - val_accuracy: 1.0000\n",
            "Epoch 181/300\n",
            "7/7 [==============================] - 0s 4ms/step - loss: 0.0996 - accuracy: 0.9600 - val_loss: 0.0418 - val_accuracy: 0.9800\n",
            "Epoch 182/300\n",
            "7/7 [==============================] - 0s 4ms/step - loss: 0.0960 - accuracy: 0.9600 - val_loss: 0.0565 - val_accuracy: 0.9800\n",
            "Epoch 183/300\n",
            "7/7 [==============================] - 0s 4ms/step - loss: 0.1044 - accuracy: 0.9500 - val_loss: 0.0603 - val_accuracy: 0.9800\n",
            "Epoch 184/300\n",
            "7/7 [==============================] - 0s 4ms/step - loss: 0.0940 - accuracy: 0.9600 - val_loss: 0.0542 - val_accuracy: 0.9800\n",
            "Epoch 185/300\n",
            "7/7 [==============================] - 0s 4ms/step - loss: 0.0911 - accuracy: 0.9600 - val_loss: 0.0338 - val_accuracy: 1.0000\n",
            "Epoch 186/300\n",
            "7/7 [==============================] - 0s 4ms/step - loss: 0.0979 - accuracy: 0.9600 - val_loss: 0.0397 - val_accuracy: 0.9800\n",
            "Epoch 187/300\n",
            "7/7 [==============================] - 0s 4ms/step - loss: 0.0954 - accuracy: 0.9600 - val_loss: 0.0389 - val_accuracy: 1.0000\n",
            "Epoch 188/300\n",
            "7/7 [==============================] - 0s 4ms/step - loss: 0.0960 - accuracy: 0.9700 - val_loss: 0.0329 - val_accuracy: 1.0000\n",
            "Epoch 189/300\n",
            "7/7 [==============================] - 0s 4ms/step - loss: 0.0950 - accuracy: 0.9700 - val_loss: 0.0383 - val_accuracy: 1.0000\n",
            "Epoch 190/300\n",
            "7/7 [==============================] - 0s 4ms/step - loss: 0.0954 - accuracy: 0.9600 - val_loss: 0.0343 - val_accuracy: 1.0000\n",
            "Epoch 191/300\n",
            "7/7 [==============================] - 0s 4ms/step - loss: 0.0921 - accuracy: 0.9600 - val_loss: 0.0362 - val_accuracy: 1.0000\n",
            "Epoch 192/300\n",
            "7/7 [==============================] - 0s 4ms/step - loss: 0.0975 - accuracy: 0.9600 - val_loss: 0.0336 - val_accuracy: 1.0000\n",
            "Epoch 193/300\n",
            "7/7 [==============================] - 0s 5ms/step - loss: 0.0914 - accuracy: 0.9600 - val_loss: 0.0317 - val_accuracy: 1.0000\n",
            "Epoch 194/300\n",
            "7/7 [==============================] - 0s 4ms/step - loss: 0.0931 - accuracy: 0.9600 - val_loss: 0.0311 - val_accuracy: 1.0000\n",
            "Epoch 195/300\n",
            "7/7 [==============================] - 0s 4ms/step - loss: 0.0974 - accuracy: 0.9600 - val_loss: 0.0325 - val_accuracy: 1.0000\n",
            "Epoch 196/300\n",
            "7/7 [==============================] - 0s 4ms/step - loss: 0.0945 - accuracy: 0.9700 - val_loss: 0.0402 - val_accuracy: 0.9800\n",
            "Epoch 197/300\n",
            "7/7 [==============================] - 0s 4ms/step - loss: 0.0895 - accuracy: 0.9600 - val_loss: 0.0332 - val_accuracy: 1.0000\n",
            "Epoch 198/300\n",
            "7/7 [==============================] - 0s 4ms/step - loss: 0.0866 - accuracy: 0.9700 - val_loss: 0.0792 - val_accuracy: 0.9800\n",
            "Epoch 199/300\n",
            "7/7 [==============================] - 0s 5ms/step - loss: 0.1050 - accuracy: 0.9500 - val_loss: 0.0495 - val_accuracy: 0.9800\n",
            "Epoch 200/300\n",
            "7/7 [==============================] - 0s 4ms/step - loss: 0.0983 - accuracy: 0.9500 - val_loss: 0.0433 - val_accuracy: 0.9800\n",
            "Epoch 201/300\n",
            "7/7 [==============================] - 0s 4ms/step - loss: 0.0916 - accuracy: 0.9500 - val_loss: 0.0396 - val_accuracy: 0.9800\n",
            "Epoch 202/300\n",
            "7/7 [==============================] - 0s 4ms/step - loss: 0.0906 - accuracy: 0.9600 - val_loss: 0.0340 - val_accuracy: 1.0000\n",
            "Epoch 203/300\n",
            "7/7 [==============================] - 0s 4ms/step - loss: 0.0922 - accuracy: 0.9500 - val_loss: 0.0330 - val_accuracy: 1.0000\n",
            "Epoch 204/300\n",
            "7/7 [==============================] - 0s 4ms/step - loss: 0.0886 - accuracy: 0.9500 - val_loss: 0.0402 - val_accuracy: 0.9800\n",
            "Epoch 205/300\n",
            "7/7 [==============================] - 0s 4ms/step - loss: 0.0906 - accuracy: 0.9600 - val_loss: 0.0312 - val_accuracy: 1.0000\n",
            "Epoch 206/300\n",
            "7/7 [==============================] - 0s 4ms/step - loss: 0.0913 - accuracy: 0.9600 - val_loss: 0.0277 - val_accuracy: 1.0000\n",
            "Epoch 207/300\n",
            "7/7 [==============================] - 0s 4ms/step - loss: 0.0908 - accuracy: 0.9700 - val_loss: 0.0344 - val_accuracy: 0.9800\n",
            "Epoch 208/300\n",
            "7/7 [==============================] - 0s 4ms/step - loss: 0.0884 - accuracy: 0.9700 - val_loss: 0.0367 - val_accuracy: 0.9800\n",
            "Epoch 209/300\n",
            "7/7 [==============================] - 0s 4ms/step - loss: 0.0866 - accuracy: 0.9700 - val_loss: 0.0343 - val_accuracy: 0.9800\n",
            "Epoch 210/300\n",
            "7/7 [==============================] - 0s 4ms/step - loss: 0.0855 - accuracy: 0.9500 - val_loss: 0.0520 - val_accuracy: 0.9800\n",
            "Epoch 211/300\n",
            "7/7 [==============================] - 0s 4ms/step - loss: 0.0826 - accuracy: 0.9800 - val_loss: 0.0271 - val_accuracy: 1.0000\n",
            "Epoch 212/300\n",
            "7/7 [==============================] - 0s 4ms/step - loss: 0.0963 - accuracy: 0.9500 - val_loss: 0.0250 - val_accuracy: 1.0000\n",
            "Epoch 213/300\n",
            "7/7 [==============================] - 0s 4ms/step - loss: 0.0922 - accuracy: 0.9700 - val_loss: 0.0255 - val_accuracy: 1.0000\n",
            "Epoch 214/300\n",
            "7/7 [==============================] - 0s 4ms/step - loss: 0.0904 - accuracy: 0.9700 - val_loss: 0.0245 - val_accuracy: 1.0000\n",
            "Epoch 215/300\n",
            "7/7 [==============================] - 0s 4ms/step - loss: 0.0945 - accuracy: 0.9500 - val_loss: 0.0288 - val_accuracy: 1.0000\n",
            "Epoch 216/300\n",
            "7/7 [==============================] - 0s 4ms/step - loss: 0.0858 - accuracy: 0.9700 - val_loss: 0.0412 - val_accuracy: 0.9800\n",
            "Epoch 217/300\n",
            "7/7 [==============================] - 0s 4ms/step - loss: 0.0870 - accuracy: 0.9600 - val_loss: 0.0312 - val_accuracy: 0.9800\n",
            "Epoch 218/300\n",
            "7/7 [==============================] - 0s 4ms/step - loss: 0.0844 - accuracy: 0.9600 - val_loss: 0.0262 - val_accuracy: 1.0000\n",
            "Epoch 219/300\n",
            "7/7 [==============================] - 0s 4ms/step - loss: 0.0827 - accuracy: 0.9700 - val_loss: 0.0786 - val_accuracy: 0.9800\n",
            "Epoch 220/300\n",
            "7/7 [==============================] - 0s 4ms/step - loss: 0.0903 - accuracy: 0.9500 - val_loss: 0.0291 - val_accuracy: 1.0000\n",
            "Epoch 221/300\n",
            "7/7 [==============================] - 0s 4ms/step - loss: 0.0834 - accuracy: 0.9700 - val_loss: 0.0363 - val_accuracy: 0.9800\n",
            "Epoch 222/300\n",
            "7/7 [==============================] - 0s 4ms/step - loss: 0.0879 - accuracy: 0.9500 - val_loss: 0.0339 - val_accuracy: 0.9800\n",
            "Epoch 223/300\n",
            "7/7 [==============================] - 0s 5ms/step - loss: 0.0897 - accuracy: 0.9600 - val_loss: 0.0328 - val_accuracy: 0.9800\n",
            "Epoch 224/300\n",
            "7/7 [==============================] - 0s 4ms/step - loss: 0.0866 - accuracy: 0.9600 - val_loss: 0.0395 - val_accuracy: 0.9800\n",
            "Epoch 225/300\n",
            "7/7 [==============================] - 0s 4ms/step - loss: 0.0879 - accuracy: 0.9700 - val_loss: 0.0427 - val_accuracy: 0.9800\n",
            "Epoch 226/300\n",
            "7/7 [==============================] - 0s 4ms/step - loss: 0.0924 - accuracy: 0.9600 - val_loss: 0.0349 - val_accuracy: 0.9800\n",
            "Epoch 227/300\n",
            "7/7 [==============================] - 0s 4ms/step - loss: 0.0901 - accuracy: 0.9600 - val_loss: 0.0441 - val_accuracy: 0.9800\n",
            "Epoch 228/300\n",
            "7/7 [==============================] - 0s 4ms/step - loss: 0.0855 - accuracy: 0.9600 - val_loss: 0.0227 - val_accuracy: 1.0000\n",
            "Epoch 229/300\n",
            "7/7 [==============================] - 0s 4ms/step - loss: 0.0871 - accuracy: 0.9600 - val_loss: 0.0294 - val_accuracy: 1.0000\n",
            "Epoch 230/300\n",
            "7/7 [==============================] - 0s 5ms/step - loss: 0.0836 - accuracy: 0.9600 - val_loss: 0.0355 - val_accuracy: 0.9800\n",
            "Epoch 231/300\n",
            "7/7 [==============================] - 0s 4ms/step - loss: 0.0803 - accuracy: 0.9600 - val_loss: 0.0276 - val_accuracy: 1.0000\n",
            "Epoch 232/300\n",
            "7/7 [==============================] - 0s 4ms/step - loss: 0.0888 - accuracy: 0.9500 - val_loss: 0.0266 - val_accuracy: 1.0000\n",
            "Epoch 233/300\n",
            "7/7 [==============================] - 0s 4ms/step - loss: 0.0851 - accuracy: 0.9600 - val_loss: 0.0398 - val_accuracy: 0.9800\n",
            "Epoch 234/300\n",
            "7/7 [==============================] - 0s 4ms/step - loss: 0.0852 - accuracy: 0.9500 - val_loss: 0.0271 - val_accuracy: 1.0000\n",
            "Epoch 235/300\n",
            "7/7 [==============================] - 0s 4ms/step - loss: 0.0885 - accuracy: 0.9700 - val_loss: 0.0281 - val_accuracy: 1.0000\n",
            "Epoch 236/300\n",
            "7/7 [==============================] - 0s 4ms/step - loss: 0.0838 - accuracy: 0.9500 - val_loss: 0.0230 - val_accuracy: 1.0000\n",
            "Epoch 237/300\n",
            "7/7 [==============================] - 0s 4ms/step - loss: 0.0860 - accuracy: 0.9500 - val_loss: 0.0268 - val_accuracy: 1.0000\n",
            "Epoch 238/300\n",
            "7/7 [==============================] - 0s 4ms/step - loss: 0.0834 - accuracy: 0.9600 - val_loss: 0.0267 - val_accuracy: 1.0000\n",
            "Epoch 239/300\n",
            "7/7 [==============================] - 0s 4ms/step - loss: 0.0825 - accuracy: 0.9700 - val_loss: 0.0206 - val_accuracy: 1.0000\n",
            "Epoch 240/300\n",
            "7/7 [==============================] - 0s 4ms/step - loss: 0.0790 - accuracy: 0.9700 - val_loss: 0.0633 - val_accuracy: 0.9800\n",
            "Epoch 241/300\n",
            "7/7 [==============================] - 0s 4ms/step - loss: 0.0858 - accuracy: 0.9500 - val_loss: 0.0335 - val_accuracy: 0.9800\n",
            "Epoch 242/300\n",
            "7/7 [==============================] - 0s 4ms/step - loss: 0.0805 - accuracy: 0.9700 - val_loss: 0.0261 - val_accuracy: 1.0000\n",
            "Epoch 243/300\n",
            "7/7 [==============================] - 0s 4ms/step - loss: 0.0836 - accuracy: 0.9600 - val_loss: 0.0233 - val_accuracy: 1.0000\n",
            "Epoch 244/300\n",
            "7/7 [==============================] - 0s 4ms/step - loss: 0.0803 - accuracy: 0.9700 - val_loss: 0.0289 - val_accuracy: 0.9800\n",
            "Epoch 245/300\n",
            "7/7 [==============================] - 0s 4ms/step - loss: 0.0811 - accuracy: 0.9600 - val_loss: 0.0235 - val_accuracy: 1.0000\n",
            "Epoch 246/300\n",
            "7/7 [==============================] - 0s 4ms/step - loss: 0.0799 - accuracy: 0.9600 - val_loss: 0.0753 - val_accuracy: 0.9800\n",
            "Epoch 247/300\n",
            "7/7 [==============================] - 0s 4ms/step - loss: 0.0887 - accuracy: 0.9500 - val_loss: 0.0327 - val_accuracy: 0.9800\n",
            "Epoch 248/300\n",
            "7/7 [==============================] - 0s 4ms/step - loss: 0.0794 - accuracy: 0.9600 - val_loss: 0.0272 - val_accuracy: 1.0000\n",
            "Epoch 249/300\n",
            "7/7 [==============================] - 0s 4ms/step - loss: 0.0830 - accuracy: 0.9600 - val_loss: 0.0282 - val_accuracy: 0.9800\n",
            "Epoch 250/300\n",
            "7/7 [==============================] - 0s 4ms/step - loss: 0.0766 - accuracy: 0.9600 - val_loss: 0.0273 - val_accuracy: 0.9800\n",
            "Epoch 251/300\n",
            "7/7 [==============================] - 0s 4ms/step - loss: 0.0818 - accuracy: 0.9700 - val_loss: 0.0292 - val_accuracy: 0.9800\n",
            "Epoch 252/300\n",
            "7/7 [==============================] - 0s 4ms/step - loss: 0.0813 - accuracy: 0.9700 - val_loss: 0.0189 - val_accuracy: 1.0000\n",
            "Epoch 253/300\n",
            "7/7 [==============================] - 0s 4ms/step - loss: 0.0829 - accuracy: 0.9700 - val_loss: 0.0463 - val_accuracy: 0.9800\n",
            "Epoch 254/300\n",
            "7/7 [==============================] - 0s 4ms/step - loss: 0.0794 - accuracy: 0.9600 - val_loss: 0.0283 - val_accuracy: 0.9800\n",
            "Epoch 255/300\n",
            "7/7 [==============================] - 0s 4ms/step - loss: 0.0800 - accuracy: 0.9600 - val_loss: 0.0418 - val_accuracy: 0.9800\n",
            "Epoch 256/300\n",
            "7/7 [==============================] - 0s 4ms/step - loss: 0.0796 - accuracy: 0.9700 - val_loss: 0.0273 - val_accuracy: 0.9800\n",
            "Epoch 257/300\n",
            "7/7 [==============================] - 0s 4ms/step - loss: 0.0807 - accuracy: 0.9700 - val_loss: 0.0203 - val_accuracy: 1.0000\n",
            "Epoch 258/300\n",
            "7/7 [==============================] - 0s 5ms/step - loss: 0.0814 - accuracy: 0.9600 - val_loss: 0.0295 - val_accuracy: 0.9800\n",
            "Epoch 259/300\n",
            "7/7 [==============================] - 0s 4ms/step - loss: 0.0777 - accuracy: 0.9600 - val_loss: 0.0316 - val_accuracy: 0.9800\n",
            "Epoch 260/300\n",
            "7/7 [==============================] - 0s 4ms/step - loss: 0.0807 - accuracy: 0.9700 - val_loss: 0.0446 - val_accuracy: 0.9800\n",
            "Epoch 261/300\n",
            "7/7 [==============================] - 0s 4ms/step - loss: 0.0796 - accuracy: 0.9700 - val_loss: 0.0474 - val_accuracy: 0.9800\n",
            "Epoch 262/300\n",
            "7/7 [==============================] - 0s 4ms/step - loss: 0.0779 - accuracy: 0.9600 - val_loss: 0.0349 - val_accuracy: 0.9800\n",
            "Epoch 263/300\n",
            "7/7 [==============================] - 0s 4ms/step - loss: 0.0877 - accuracy: 0.9600 - val_loss: 0.0321 - val_accuracy: 0.9800\n",
            "Epoch 264/300\n",
            "7/7 [==============================] - 0s 4ms/step - loss: 0.0833 - accuracy: 0.9600 - val_loss: 0.0209 - val_accuracy: 1.0000\n",
            "Epoch 265/300\n",
            "7/7 [==============================] - 0s 4ms/step - loss: 0.0750 - accuracy: 0.9600 - val_loss: 0.0583 - val_accuracy: 0.9800\n",
            "Epoch 266/300\n",
            "7/7 [==============================] - 0s 5ms/step - loss: 0.0824 - accuracy: 0.9600 - val_loss: 0.0401 - val_accuracy: 0.9800\n",
            "Epoch 267/300\n",
            "7/7 [==============================] - 0s 4ms/step - loss: 0.0813 - accuracy: 0.9600 - val_loss: 0.0283 - val_accuracy: 0.9800\n",
            "Epoch 268/300\n",
            "7/7 [==============================] - 0s 3ms/step - loss: 0.0768 - accuracy: 0.9600 - val_loss: 0.0232 - val_accuracy: 1.0000\n",
            "Epoch 269/300\n",
            "7/7 [==============================] - 0s 4ms/step - loss: 0.0775 - accuracy: 0.9600 - val_loss: 0.0229 - val_accuracy: 1.0000\n",
            "Epoch 270/300\n",
            "7/7 [==============================] - 0s 4ms/step - loss: 0.0810 - accuracy: 0.9600 - val_loss: 0.0373 - val_accuracy: 0.9800\n",
            "Epoch 271/300\n",
            "7/7 [==============================] - 0s 4ms/step - loss: 0.0806 - accuracy: 0.9600 - val_loss: 0.0370 - val_accuracy: 0.9800\n",
            "Epoch 272/300\n",
            "7/7 [==============================] - 0s 4ms/step - loss: 0.0793 - accuracy: 0.9500 - val_loss: 0.0231 - val_accuracy: 1.0000\n",
            "Epoch 273/300\n",
            "7/7 [==============================] - 0s 4ms/step - loss: 0.0813 - accuracy: 0.9600 - val_loss: 0.0255 - val_accuracy: 0.9800\n",
            "Epoch 274/300\n",
            "7/7 [==============================] - 0s 4ms/step - loss: 0.0862 - accuracy: 0.9500 - val_loss: 0.0213 - val_accuracy: 1.0000\n",
            "Epoch 275/300\n",
            "7/7 [==============================] - 0s 4ms/step - loss: 0.0810 - accuracy: 0.9600 - val_loss: 0.0336 - val_accuracy: 0.9800\n",
            "Epoch 276/300\n",
            "7/7 [==============================] - 0s 4ms/step - loss: 0.0744 - accuracy: 0.9700 - val_loss: 0.0180 - val_accuracy: 1.0000\n",
            "Epoch 277/300\n",
            "7/7 [==============================] - 0s 4ms/step - loss: 0.0822 - accuracy: 0.9700 - val_loss: 0.0562 - val_accuracy: 0.9800\n",
            "Epoch 278/300\n",
            "7/7 [==============================] - 0s 4ms/step - loss: 0.0858 - accuracy: 0.9500 - val_loss: 0.0406 - val_accuracy: 0.9800\n",
            "Epoch 279/300\n",
            "7/7 [==============================] - 0s 4ms/step - loss: 0.0849 - accuracy: 0.9700 - val_loss: 0.0409 - val_accuracy: 0.9800\n",
            "Epoch 280/300\n",
            "7/7 [==============================] - 0s 4ms/step - loss: 0.0792 - accuracy: 0.9600 - val_loss: 0.0287 - val_accuracy: 0.9800\n",
            "Epoch 281/300\n",
            "7/7 [==============================] - 0s 4ms/step - loss: 0.0820 - accuracy: 0.9600 - val_loss: 0.0199 - val_accuracy: 1.0000\n",
            "Epoch 282/300\n",
            "7/7 [==============================] - 0s 4ms/step - loss: 0.0797 - accuracy: 0.9600 - val_loss: 0.0299 - val_accuracy: 0.9800\n",
            "Epoch 283/300\n",
            "7/7 [==============================] - 0s 4ms/step - loss: 0.0794 - accuracy: 0.9700 - val_loss: 0.0538 - val_accuracy: 0.9800\n",
            "Epoch 284/300\n",
            "7/7 [==============================] - 0s 4ms/step - loss: 0.0820 - accuracy: 0.9500 - val_loss: 0.0331 - val_accuracy: 0.9800\n",
            "Epoch 285/300\n",
            "7/7 [==============================] - 0s 4ms/step - loss: 0.0791 - accuracy: 0.9500 - val_loss: 0.0221 - val_accuracy: 1.0000\n",
            "Epoch 286/300\n",
            "7/7 [==============================] - 0s 4ms/step - loss: 0.0747 - accuracy: 0.9600 - val_loss: 0.0343 - val_accuracy: 0.9800\n",
            "Epoch 287/300\n",
            "7/7 [==============================] - 0s 4ms/step - loss: 0.0734 - accuracy: 0.9700 - val_loss: 0.0191 - val_accuracy: 1.0000\n",
            "Epoch 288/300\n",
            "7/7 [==============================] - 0s 4ms/step - loss: 0.0762 - accuracy: 0.9600 - val_loss: 0.0323 - val_accuracy: 0.9800\n",
            "Epoch 289/300\n",
            "7/7 [==============================] - 0s 4ms/step - loss: 0.0758 - accuracy: 0.9700 - val_loss: 0.0260 - val_accuracy: 0.9800\n",
            "Epoch 290/300\n",
            "7/7 [==============================] - 0s 4ms/step - loss: 0.0749 - accuracy: 0.9700 - val_loss: 0.0561 - val_accuracy: 0.9800\n",
            "Epoch 291/300\n",
            "7/7 [==============================] - 0s 4ms/step - loss: 0.0862 - accuracy: 0.9700 - val_loss: 0.0582 - val_accuracy: 0.9800\n",
            "Epoch 292/300\n",
            "7/7 [==============================] - 0s 4ms/step - loss: 0.0842 - accuracy: 0.9700 - val_loss: 0.0352 - val_accuracy: 0.9800\n",
            "Epoch 293/300\n",
            "7/7 [==============================] - 0s 6ms/step - loss: 0.0771 - accuracy: 0.9600 - val_loss: 0.0304 - val_accuracy: 0.9800\n",
            "Epoch 294/300\n",
            "7/7 [==============================] - 0s 5ms/step - loss: 0.0723 - accuracy: 0.9600 - val_loss: 0.0167 - val_accuracy: 1.0000\n",
            "Epoch 295/300\n",
            "7/7 [==============================] - 0s 4ms/step - loss: 0.0771 - accuracy: 0.9700 - val_loss: 0.0233 - val_accuracy: 1.0000\n",
            "Epoch 296/300\n",
            "7/7 [==============================] - 0s 4ms/step - loss: 0.0835 - accuracy: 0.9600 - val_loss: 0.0549 - val_accuracy: 0.9800\n",
            "Epoch 297/300\n",
            "7/7 [==============================] - 0s 4ms/step - loss: 0.0886 - accuracy: 0.9500 - val_loss: 0.0341 - val_accuracy: 0.9800\n",
            "Epoch 298/300\n",
            "7/7 [==============================] - 0s 4ms/step - loss: 0.0759 - accuracy: 0.9700 - val_loss: 0.0292 - val_accuracy: 0.9800\n",
            "Epoch 299/300\n",
            "7/7 [==============================] - 0s 4ms/step - loss: 0.0768 - accuracy: 0.9700 - val_loss: 0.0326 - val_accuracy: 0.9800\n",
            "Epoch 300/300\n",
            "7/7 [==============================] - 0s 4ms/step - loss: 0.0731 - accuracy: 0.9600 - val_loss: 0.0182 - val_accuracy: 1.0000\n"
          ],
          "name": "stdout"
        }
      ]
    },
    {
      "cell_type": "code",
      "metadata": {
        "id": "4-mHiDF9HCI_",
        "outputId": "dbacfc33-e77c-45b0-949e-97453a9635ce",
        "colab": {
          "base_uri": "https://localhost:8080/",
          "height": 296
        }
      },
      "source": [
        "# 그래프 출력\n",
        "plt.figure(figsize=(8, 4))\n",
        "plt.subplot(1, 2, 1)\n",
        "plt.plot(hist.history['loss'])\n",
        "plt.title(\"loss\")\n",
        "plt.subplot(1, 2, 2)\n",
        "plt.title(\"accuracy\")\n",
        "#plt.ylim(0.75,1)\n",
        "plt.plot(hist.history['accuracy'], 'b-', label=\"training\")\n",
        "plt.plot(hist.history['val_accuracy'], 'r:', label=\"validation\")\n",
        "plt.legend()\n",
        "plt.tight_layout()\n",
        "plt.show()"
      ],
      "execution_count": null,
      "outputs": [
        {
          "output_type": "display_data",
          "data": {
            "image/png": "[encoded data removed]",
            "text/plain": [
              "<Figure size 576x288 with 2 Axes>"
            ]
          },
          "metadata": {
            "tags": [],
            "needs_background": "light"
          }
        }
      ]
    },
    {
      "cell_type": "code",
      "metadata": {
        "id": "DCT3IgITHZRK",
        "outputId": "cc8db39e-309d-49d4-c558-0b00be39e9c9",
        "colab": {
          "base_uri": "https://localhost:8080/",
          "height": 54
        }
      },
      "source": [
        "# 예측 값 리스트 만들기\n",
        "y_pred = model.predict_classes(x_test)"
      ],
      "execution_count": null,
      "outputs": [
        {
          "output_type": "stream",
          "text": [
            "WARNING:tensorflow:5 out of the last 13 calls to <function Model.make_predict_function.<locals>.predict_function at 0x7f1ce5b19ea0> triggered tf.function retracing. Tracing is expensive and the excessive number of tracings could be due to (1) creating @tf.function repeatedly in a loop, (2) passing tensors with different shapes, (3) passing Python objects instead of tensors. For (1), please define your @tf.function outside of the loop. For (2), @tf.function has experimental_relax_shapes=True option that relaxes argument shapes that can avoid unnecessary retracing. For (3), please refer to https://www.tensorflow.org/tutorials/customization/performance#python_or_tensor_args and https://www.tensorflow.org/api_docs/python/tf/function for  more details.\n"
          ],
          "name": "stdout"
        }
      ]
    },
    {
      "cell_type": "code",
      "metadata": {
        "id": "yUsrNhSrNaRf"
      },
      "source": [
        "# 원핫 -> 원래 숫자로\n",
        "y_true = np.argmax(y_test,axis=1)"
      ],
      "execution_count": null,
      "outputs": []
    },
    {
      "cell_type": "code",
      "metadata": {
        "id": "8E4jbeObOJ26",
        "outputId": "ee0d352c-299c-4468-b644-cb0434ef70d1",
        "colab": {
          "base_uri": "https://localhost:8080/",
          "height": 87
        }
      },
      "source": [
        "print(y_pred)\n",
        "print(y_true)"
      ],
      "execution_count": null,
      "outputs": [
        {
          "output_type": "stream",
          "text": [
            "[1 1 2 1 2 1 2 2 1 0 1 1 1 0 0 2 0 2 2 2 0 0 1 1 2 0 0 1 2 1 2 2 1 1 2 2 1\n",
            " 2 2 0 1 0 1 1 2 2 2 0 1 0]\n",
            "[1 1 2 1 2 1 2 2 1 0 1 1 1 0 0 2 0 2 2 2 0 0 1 1 2 0 0 1 2 1 2 2 1 1 2 2 1\n",
            " 2 2 0 1 0 1 1 2 2 2 0 1 0]\n"
          ],
          "name": "stdout"
        }
      ]
    },
    {
      "cell_type": "code",
      "metadata": {
        "id": "nkUfJqCTMTuj"
      },
      "source": [
        "# 틀린거 출력\n",
        "for i in range(len(y_pred)):\n",
        "  if (y_pred[i] != y_true[i]):\n",
        "    print('실제 :', y_true[i], '예측 :', y_pred[i], '\\n')"
      ],
      "execution_count": null,
      "outputs": []
    }
  ]
}