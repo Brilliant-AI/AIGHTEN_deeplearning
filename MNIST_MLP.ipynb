{
  "nbformat": 4,
  "nbformat_minor": 0,
  "metadata": {
    "colab": {
      "name": "MNIST_MLP.ipynb",
      "provenance": [],
      "collapsed_sections": []
    },
    "kernelspec": {
      "name": "python3",
      "display_name": "Python 3"
    },
    "accelerator": "GPU"
  },
  "cells": [
    {
      "cell_type": "markdown",
      "metadata": {
        "id": "5rMupEODoh2D"
      },
      "source": [
        "##초기 셋팅"
      ]
    },
    {
      "cell_type": "code",
      "metadata": {
        "id": "9AByUn7HeH9l"
      },
      "source": [
        "import tensorflow as tf\n",
        "from tensorflow import keras\n",
        "import numpy as np\n",
        "import matplotlib.pyplot as plt"
      ],
      "execution_count": null,
      "outputs": []
    },
    {
      "cell_type": "code",
      "metadata": {
        "id": "XCJG-lEreSUf"
      },
      "source": [
        "# MNIST 데이터 받아오기\n",
        "mnist = keras.datasets.mnist\n",
        "(X_train, y_train), (X_test, y_test) = mnist.load_data()"
      ],
      "execution_count": null,
      "outputs": []
    },
    {
      "cell_type": "markdown",
      "metadata": {
        "id": "vWa8njR1eZDL"
      },
      "source": [
        "## 데이터 print 해보기"
      ]
    },
    {
      "cell_type": "code",
      "metadata": {
        "id": "xwOkreEhsS_X"
      },
      "source": [
        "# MNIST 이미지 출력해보기\n"
      ],
      "execution_count": null,
      "outputs": []
    },
    {
      "cell_type": "code",
      "metadata": {
        "id": "-DDTINCwo4lv"
      },
      "source": [
        "# MNIST 이미지 여러개 출력해보기\n",
        "plt.figure(figsize=(6, 1))\n",
        "for i in range(36):\n",
        "    plt.subplot(3, 12, i+1)\n",
        "    plt.imshow(X_train[i])\n",
        "    plt.axis(\"off\")\n",
        "plt.show()"
      ],
      "execution_count": null,
      "outputs": []
    },
    {
      "cell_type": "code",
      "metadata": {
        "id": "4p7S4YiUoxV1"
      },
      "source": [
        "# MNIST 데이터 shape 출력해보기\n"
      ],
      "execution_count": null,
      "outputs": []
    },
    {
      "cell_type": "code",
      "metadata": {
        "id": "KghN9wv3pIlj"
      },
      "source": [
        "# MNIST 데이터 배열 출력해보기\n"
      ],
      "execution_count": null,
      "outputs": []
    },
    {
      "cell_type": "markdown",
      "metadata": {
        "id": "N9vzmc8atUN1"
      },
      "source": [
        "##전처리"
      ]
    },
    {
      "cell_type": "code",
      "metadata": {
        "id": "YIXTRJgmeqHT"
      },
      "source": [
        "# 0~1로 표현하기\n"
      ],
      "execution_count": null,
      "outputs": []
    },
    {
      "cell_type": "code",
      "metadata": {
        "id": "fLGGN3faea78"
      },
      "source": [
        "# 2차원 데이터 1차원으로 펼치기\n"
      ],
      "execution_count": null,
      "outputs": []
    },
    {
      "cell_type": "code",
      "metadata": {
        "id": "4fvvuHLUe2S7"
      },
      "source": [
        "# 1차원으로 펼친 데이터 shape 출력해보기\n"
      ],
      "execution_count": null,
      "outputs": []
    },
    {
      "cell_type": "code",
      "metadata": {
        "id": "P92VR8OXednV"
      },
      "source": [
        "# 원핫 인코딩 전 label 출력해보기\n"
      ],
      "execution_count": null,
      "outputs": []
    },
    {
      "cell_type": "code",
      "metadata": {
        "id": "JRIB9xNZefpj"
      },
      "source": [
        "# 원핫인코딩\n",
        "from tensorflow.keras.utils import to_categorical\n",
        "\n",
        "Y_train = to_categorical(y_train, 10)\n",
        "Y_test = to_categorical(y_test, 10)"
      ],
      "execution_count": null,
      "outputs": []
    },
    {
      "cell_type": "code",
      "metadata": {
        "id": "8RwV-AeStgNR"
      },
      "source": [
        "# 원핫 인코딩 결과 출력\n"
      ],
      "execution_count": null,
      "outputs": []
    },
    {
      "cell_type": "markdown",
      "metadata": {
        "id": "vx2ii5QTfRaB"
      },
      "source": [
        "##딥러닝 모델 설계"
      ]
    },
    {
      "cell_type": "code",
      "metadata": {
        "id": "yNjhIcNSehQF"
      },
      "source": [
        "# 딥러닝 모델을 위한 라이브러리 불러오기\n",
        "from tensorflow.keras.models import Sequential\n",
        "from tensorflow.keras.layers import Dense\n",
        "from tensorflow.keras.optimizers import SGD"
      ],
      "execution_count": null,
      "outputs": []
    },
    {
      "cell_type": "code",
      "metadata": {
        "id": "7fb7bRpKtrt1"
      },
      "source": [
        "# 모델 설계\n"
      ],
      "execution_count": null,
      "outputs": []
    },
    {
      "cell_type": "code",
      "metadata": {
        "id": "2ScNdXhBemJl"
      },
      "source": [
        "# 모델 요약\n"
      ],
      "execution_count": null,
      "outputs": []
    },
    {
      "cell_type": "code",
      "metadata": {
        "id": "rGpn37I9e1EZ"
      },
      "source": [
        "# 학습시작\n"
      ],
      "execution_count": null,
      "outputs": []
    },
    {
      "cell_type": "markdown",
      "metadata": {
        "id": "1_p2j79Oe9bv"
      },
      "source": [
        ""
      ]
    },
    {
      "cell_type": "code",
      "metadata": {
        "id": "YRJTWogge3XW"
      },
      "source": [
        "# 학습 그래프 그리기\n",
        "\n",
        "plt.figure(figsize=(8, 4))\n",
        "plt.subplot(1, 2, 1)\n",
        "plt.plot(hist.history['loss'])\n",
        "plt.title(\"loss\")\n",
        "plt.subplot(1, 2, 2)\n",
        "plt.title(\"accuracy\")\n",
        "#plt.ylim(0.75,1)\n",
        "plt.plot(hist.history['accuracy'], 'b-', label=\"training\")\n",
        "plt.plot(hist.history['val_accuracy'], 'r:', label=\"validation\")\n",
        "plt.legend()\n",
        "plt.tight_layout()\n",
        "plt.show()"
      ],
      "execution_count": null,
      "outputs": []
    },
    {
      "cell_type": "code",
      "metadata": {
        "id": "ox-dPgq67MzN"
      },
      "source": [
        "# 예측 값 리스트 만들기\n"
      ],
      "execution_count": null,
      "outputs": []
    },
    {
      "cell_type": "code",
      "metadata": {
        "id": "KTSwj3Tpu3Lf"
      },
      "source": [
        "# 원핫 -> 원래 숫자로\n",
        "y_true = np.argmax(Y_test,axis=1)"
      ],
      "execution_count": null,
      "outputs": []
    },
    {
      "cell_type": "code",
      "metadata": {
        "id": "jRo_z73nu80Z"
      },
      "source": [
        "# 예측값, 실제값 출력해보기\n"
      ],
      "execution_count": null,
      "outputs": []
    },
    {
      "cell_type": "code",
      "metadata": {
        "id": "cpqIa6V-vDJa"
      },
      "source": [
        "# 실제 데이터, 예측값 출력해보기\n",
        "n = 101\n",
        "plt.imshow(X_test[n].reshape(28, 28))\n",
        "plt.show()\n",
        "\n",
        "print('The Answer is ', model.predict_classes(X_test[n].reshape((1, 784))))"
      ],
      "execution_count": null,
      "outputs": []
    },
    {
      "cell_type": "code",
      "metadata": {
        "id": "5iS8O6-8vbpF"
      },
      "source": [
        "# 틀린거 랜덤으로 출력해보기\n",
        "import random\n",
        "\n",
        "wrong_result=[]\n",
        "for n in range(0, len(y_true)):\n",
        "    if y_pred[n] != y_true[n]:\n",
        "        wrong_result.append(n)\n",
        "\n",
        "count = 0\n",
        "nrows = ncols = 4\n",
        "\n",
        "plt.figure(figsize=(12,8))\n",
        "\n",
        "samples = random.choices(population=wrong_result, k=16)\n",
        "\n",
        "for n in samples:\n",
        "    count += 1\n",
        "    plt.subplot(nrows, ncols, count)\n",
        "    plt.imshow(X_test[n].reshape(28, 28), interpolation='nearest')\n",
        "    tmp = \"Label:\" + str(y_true[n]) + \", Prediction:\" + str(y_pred[n])\n",
        "    plt.title(tmp)\n",
        "\n",
        "plt.tight_layout()\n",
        "plt.show()"
      ],
      "execution_count": null,
      "outputs": []
    },
    {
      "cell_type": "code",
      "metadata": {
        "id": "VydcI7Z7gdXW"
      },
      "source": [
        ""
      ],
      "execution_count": null,
      "outputs": []
    }
  ]
}